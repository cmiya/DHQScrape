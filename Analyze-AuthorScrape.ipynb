{
 "cells": [
  {
   "cell_type": "markdown",
   "metadata": {},
   "source": [
    "# Import .csv file as dataframe using pandas"
   ]
  },
  {
   "cell_type": "code",
   "execution_count": 437,
   "metadata": {
    "collapsed": false
   },
   "outputs": [
    {
     "data": {
      "text/html": [
       "<div>\n",
       "<table border=\"1\" class=\"dataframe\">\n",
       "  <thead>\n",
       "    <tr style=\"text-align: right;\">\n",
       "      <th></th>\n",
       "      <th>year</th>\n",
       "      <th>volume</th>\n",
       "      <th>number</th>\n",
       "      <th>title</th>\n",
       "      <th>authors</th>\n",
       "    </tr>\n",
       "  </thead>\n",
       "  <tbody>\n",
       "    <tr>\n",
       "      <th>0</th>\n",
       "      <td>2017</td>\n",
       "      <td>11</td>\n",
       "      <td>4</td>\n",
       "      <td>DHBeNeLux: Incubator for Digital Humanities in...</td>\n",
       "      <td>Joris van Zundert,Sally Chambers,Mike Kestemon...</td>\n",
       "    </tr>\n",
       "    <tr>\n",
       "      <th>1</th>\n",
       "      <td>2017</td>\n",
       "      <td>11</td>\n",
       "      <td>4</td>\n",
       "      <td>Supporting the Exploration of Online Cultural ...</td>\n",
       "      <td>Iwe Everhardus Christiaan Muiser,Mariët Theune...</td>\n",
       "    </tr>\n",
       "    <tr>\n",
       "      <th>2</th>\n",
       "      <td>2017</td>\n",
       "      <td>11</td>\n",
       "      <td>4</td>\n",
       "      <td>Semantic Enrichment of a Multilingual Archive ...</td>\n",
       "      <td>Max De Wilde,Simon Hengchen</td>\n",
       "    </tr>\n",
       "    <tr>\n",
       "      <th>3</th>\n",
       "      <td>2017</td>\n",
       "      <td>11</td>\n",
       "      <td>4</td>\n",
       "      <td>Coca-Cola: An Icon of the American Way of Life...</td>\n",
       "      <td>Melvin Wevers,Jesper Verhoef</td>\n",
       "    </tr>\n",
       "    <tr>\n",
       "      <th>4</th>\n",
       "      <td>2017</td>\n",
       "      <td>11</td>\n",
       "      <td>4</td>\n",
       "      <td>In a test bed with Kafka. Introducing a mixed-...</td>\n",
       "      <td>J. Berenike Herrmann</td>\n",
       "    </tr>\n",
       "  </tbody>\n",
       "</table>\n",
       "</div>"
      ],
      "text/plain": [
       "   year  volume  number                                              title  \\\n",
       "0  2017      11       4  DHBeNeLux: Incubator for Digital Humanities in...   \n",
       "1  2017      11       4  Supporting the Exploration of Online Cultural ...   \n",
       "2  2017      11       4  Semantic Enrichment of a Multilingual Archive ...   \n",
       "3  2017      11       4  Coca-Cola: An Icon of the American Way of Life...   \n",
       "4  2017      11       4  In a test bed with Kafka. Introducing a mixed-...   \n",
       "\n",
       "                                             authors  \n",
       "0  Joris van Zundert,Sally Chambers,Mike Kestemon...  \n",
       "1  Iwe Everhardus Christiaan Muiser,Mariët Theune...  \n",
       "2                        Max De Wilde,Simon Hengchen  \n",
       "3                       Melvin Wevers,Jesper Verhoef  \n",
       "4                               J. Berenike Herrmann  "
      ]
     },
     "execution_count": 437,
     "metadata": {},
     "output_type": "execute_result"
    }
   ],
   "source": [
    "import pandas as pd\n",
    "df1 = pd.read_csv(\"DHQ.csv\")\n",
    "#print(df1)\n",
    "df2 = df1\n",
    "df2.head()\n",
    "\n",
    "#filtered_data = df2[df2.topping == 'pineapple']"
   ]
  },
  {
   "cell_type": "code",
   "execution_count": 438,
   "metadata": {
    "collapsed": false
   },
   "outputs": [
    {
     "data": {
      "text/html": [
       "<div>\n",
       "<table border=\"1\" class=\"dataframe\">\n",
       "  <thead>\n",
       "    <tr style=\"text-align: right;\">\n",
       "      <th></th>\n",
       "      <th>year</th>\n",
       "      <th>volume</th>\n",
       "      <th>number</th>\n",
       "      <th>title</th>\n",
       "      <th>authors</th>\n",
       "    </tr>\n",
       "  </thead>\n",
       "  <tbody>\n",
       "    <tr>\n",
       "      <th>0</th>\n",
       "      <td>2017</td>\n",
       "      <td>11</td>\n",
       "      <td>4</td>\n",
       "      <td>DHBeNeLux: Incubator for Digital Humanities in...</td>\n",
       "      <td>[Joris van Zundert, Sally Chambers, Mike Keste...</td>\n",
       "    </tr>\n",
       "    <tr>\n",
       "      <th>1</th>\n",
       "      <td>2017</td>\n",
       "      <td>11</td>\n",
       "      <td>4</td>\n",
       "      <td>Supporting the Exploration of Online Cultural ...</td>\n",
       "      <td>[Iwe Everhardus Christiaan Muiser, Mariët Theu...</td>\n",
       "    </tr>\n",
       "    <tr>\n",
       "      <th>2</th>\n",
       "      <td>2017</td>\n",
       "      <td>11</td>\n",
       "      <td>4</td>\n",
       "      <td>Semantic Enrichment of a Multilingual Archive ...</td>\n",
       "      <td>[Max De Wilde, Simon Hengchen]</td>\n",
       "    </tr>\n",
       "    <tr>\n",
       "      <th>3</th>\n",
       "      <td>2017</td>\n",
       "      <td>11</td>\n",
       "      <td>4</td>\n",
       "      <td>Coca-Cola: An Icon of the American Way of Life...</td>\n",
       "      <td>[Melvin Wevers, Jesper Verhoef]</td>\n",
       "    </tr>\n",
       "    <tr>\n",
       "      <th>4</th>\n",
       "      <td>2017</td>\n",
       "      <td>11</td>\n",
       "      <td>4</td>\n",
       "      <td>In a test bed with Kafka. Introducing a mixed-...</td>\n",
       "      <td>[J. Berenike Herrmann]</td>\n",
       "    </tr>\n",
       "  </tbody>\n",
       "</table>\n",
       "</div>"
      ],
      "text/plain": [
       "   year  volume  number                                              title  \\\n",
       "0  2017      11       4  DHBeNeLux: Incubator for Digital Humanities in...   \n",
       "1  2017      11       4  Supporting the Exploration of Online Cultural ...   \n",
       "2  2017      11       4  Semantic Enrichment of a Multilingual Archive ...   \n",
       "3  2017      11       4  Coca-Cola: An Icon of the American Way of Life...   \n",
       "4  2017      11       4  In a test bed with Kafka. Introducing a mixed-...   \n",
       "\n",
       "                                             authors  \n",
       "0  [Joris van Zundert, Sally Chambers, Mike Keste...  \n",
       "1  [Iwe Everhardus Christiaan Muiser, Mariët Theu...  \n",
       "2                     [Max De Wilde, Simon Hengchen]  \n",
       "3                    [Melvin Wevers, Jesper Verhoef]  \n",
       "4                             [J. Berenike Herrmann]  "
      ]
     },
     "execution_count": 438,
     "metadata": {},
     "output_type": "execute_result"
    }
   ],
   "source": [
    "#To calculate number of authors, turn 'authors' string into list\n",
    "df2.authors = df2.authors.str.split(',')\n",
    "df2.head()\n"
   ]
  },
  {
   "cell_type": "code",
   "execution_count": 440,
   "metadata": {
    "collapsed": false
   },
   "outputs": [
    {
     "name": "stdout",
     "output_type": "stream",
     "text": [
      "2\n"
     ]
    }
   ],
   "source": [
    "test_data = df2.loc[12]\n",
    "a_test = test_data.authors\n",
    "print(len(a_test))"
   ]
  },
  {
   "cell_type": "code",
   "execution_count": 46,
   "metadata": {
    "collapsed": false
   },
   "outputs": [],
   "source": [
    "##Create dataframe for each issue, filtering articles by volume and number, excluding reviews\n",
    "\n",
    "df_11_4 = df2[(df2.volume == 11) & (df2.number == 4) & (~df2.title.str.contains(\"Review\"))]\n",
    "df_11_3 = df2[(df2.volume == 11) & (df2.number == 3) & (~df2.title.str.contains(\"Review\"))]\n",
    "df_11_2 = df2[(df2.volume == 11) & (df2.number == 2) & (~df2.title.str.contains(\"Review\"))]\n",
    "df_11_1 = df2[(df2.volume == 11) & (df2.number == 1) & (~df2.title.str.contains(\"Review\"))]\n",
    "df_10_4 = df2[(df2.volume == 10) & (df2.number == 4) & (~df2.title.str.contains(\"Review\"))]\n",
    "df_10_3 = df2[(df2.volume == 10) & (df2.number == 3) & (~df2.title.str.contains(\"Review\"))]\n",
    "df_10_2 = df2[(df2.volume == 10) & (df2.number == 2) & (~df2.title.str.contains(\"Review\"))]\n",
    "df_10_1 = df2[(df2.volume == 10) & (df2.number == 1) & (~df2.title.str.contains(\"Review\"))]\n",
    "df_9_4 = df2[(df2.volume == 9) & (df2.number == 4) & (~df2.title.str.contains(\"Review\"))]\n",
    "df_9_3 = df2[(df2.volume == 9) & (df2.number == 3) & (~df2.title.str.contains(\"Review\"))]\n",
    "df_9_2 = df2[(df2.volume == 9) & (df2.number == 2) & (~df2.title.str.contains(\"Review\"))]\n",
    "df_9_1 = df2[(df2.volume == 9) & (df2.number == 1) & (~df2.title.str.contains(\"Review\"))]\n",
    "df_8_4 = df2[(df2.volume == 8) & (df2.number == 4) & (~df2.title.str.contains(\"Review\"))]\n",
    "df_8_3 = df2[(df2.volume == 8) & (df2.number == 3) & (~df2.title.str.contains(\"Review\"))]\n",
    "df_8_2 = df2[(df2.volume == 8) & (df2.number == 2) & (~df2.title.str.contains(\"Review\"))]\n",
    "df_8_1 = df2[(df2.volume == 8) & (df2.number == 1) & (~df2.title.str.contains(\"Review\"))]\n",
    "df_7_3 = df2[(df2.volume == 7) & (df2.number == 3) & (~df2.title.str.contains(\"Review\"))]\n",
    "df_7_2 = df2[(df2.volume == 7) & (df2.number == 2) & (~df2.title.str.contains(\"Review\"))]\n",
    "df_7_1 = df2[(df2.volume == 7) & (df2.number == 1) & (~df2.title.str.contains(\"Review\"))]\n",
    "df_6_3 = df2[(df2.volume == 6) & (df2.number == 3) & (~df2.title.str.contains(\"Review\"))]\n",
    "df_6_2 = df2[(df2.volume == 6) & (df2.number == 2) & (~df2.title.str.contains(\"Review\"))]\n",
    "df_6_1 = df2[(df2.volume == 6) & (df2.number == 1) & (~df2.title.str.contains(\"Review\"))]\n",
    "df_5_3 = df2[(df2.volume == 5) & (df2.number == 3) & (~df2.title.str.contains(\"Review\"))]\n",
    "df_5_2 = df2[(df2.volume == 5) & (df2.number == 2) & (~df2.title.str.contains(\"Review\"))]\n",
    "df_5_1 = df2[(df2.volume == 5) & (df2.number == 1) & (~df2.title.str.contains(\"Review\"))]\n",
    "df_4_2 = df2[(df2.volume == 4) & (df2.number == 2) & (~df2.title.str.contains(\"Review\"))]\n",
    "df_4_1 = df2[(df2.volume == 4) & (df2.number == 1) & (~df2.title.str.contains(\"Review\"))]\n",
    "df_3_4 = df2[(df2.volume == 3) & (df2.number == 4) & (~df2.title.str.contains(\"Review\"))]\n",
    "df_3_3 = df2[(df2.volume == 3) & (df2.number == 3) & (~df2.title.str.contains(\"Review\"))]\n",
    "df_3_2 = df2[(df2.volume == 3) & (df2.number == 2) & (~df2.title.str.contains(\"Review\"))]\n",
    "df_3_1 = df2[(df2.volume == 3) & (df2.number == 1) & (~df2.title.str.contains(\"Review\"))]\n",
    "df_2_1 = df2[(df2.volume == 2) & (df2.number == 1) & (~df2.title.str.contains(\"Review\"))]\n",
    "df_1_2 = df2[(df2.volume == 1) & (df2.number == 2) & (~df2.title.str.contains(\"Review\"))]\n",
    "df_1_1 = df2[(df2.volume == 1) & (df2.number == 1) & (~df2.title.str.contains(\"Review\"))]"
   ]
  },
  {
   "cell_type": "code",
   "execution_count": 153,
   "metadata": {
    "collapsed": false
   },
   "outputs": [
    {
     "name": "stdout",
     "output_type": "stream",
     "text": [
      "[3, 1, 1, 1, 1, 1, 1, 1]\n",
      "12.5\n",
      "1.25\n",
      "2007 1 1\n",
      "   Year  Volume  Number  Co-Authored  Average  Median\n",
      "0  2007       1       1         12.5      1.2     1.0\n"
     ]
    }
   ],
   "source": [
    "#Use Pandas to create an individual dataframe for each issue, with average, median and percentage co-authored\n",
    "\n",
    "import pandas as pd\n",
    "import statistics\n",
    "sum_a = []\n",
    "\n",
    "#For each row (article) in dataframe, calculate the number of authors, append to list\n",
    "for index, row in df_1_1.iterrows():\n",
    "    #print(row['authors'])\n",
    "    #print(len(row['authors']))\n",
    "    len_a = len(row['authors'])\n",
    "    sum_a.append(len_a)\n",
    "print(sum_a)\n",
    "\n",
    "#Use list of author #'s to calculate the average, median\n",
    "av_a = round(statistics.mean(sum_a),1)\n",
    "m_a = statistics.median(sum_a)\n",
    "\n",
    "#Use list of author #'s to calculate the percentage of co-authored articles\n",
    "co_a = round((sum(num >1 for num in sum_a)/len(sum_a) * 100), 1)\n",
    "\n",
    "#Grab the year, volume, number info from row\n",
    "f_year = row['year']\n",
    "f_vol = row['volume']\n",
    "f_num = row['number']\n",
    "print(row['year'], row['volume'], row['number'])\n",
    "\n",
    "#df_total = {'year':f_year, 'volume':f_vol, 'number':f_num, 'average_authors':av_a, 'median_authors': m_a}\n",
    "\n",
    "#Create the dataframe\n",
    "df_1_1_t = pd.DataFrame([[f_year, f_vol, f_num, co_a, av_a, m_a]], columns = ['Year','Volume','Number','Co-Authored','Average', 'Median'])\n",
    "print(df_1_1_t)"
   ]
  },
  {
   "cell_type": "code",
   "execution_count": 441,
   "metadata": {
    "collapsed": false
   },
   "outputs": [
    {
     "data": {
      "text/html": [
       "<div>\n",
       "<table border=\"1\" class=\"dataframe\">\n",
       "  <thead>\n",
       "    <tr style=\"text-align: right;\">\n",
       "      <th></th>\n",
       "      <th>Year</th>\n",
       "      <th>Volume</th>\n",
       "      <th>Number</th>\n",
       "      <th>Co-Authored</th>\n",
       "      <th>Average</th>\n",
       "      <th>Median</th>\n",
       "    </tr>\n",
       "  </thead>\n",
       "  <tbody>\n",
       "    <tr>\n",
       "      <th>0</th>\n",
       "      <td>2007</td>\n",
       "      <td>1</td>\n",
       "      <td>2</td>\n",
       "      <td>0.0</td>\n",
       "      <td>1</td>\n",
       "      <td>1.0</td>\n",
       "    </tr>\n",
       "  </tbody>\n",
       "</table>\n",
       "</div>"
      ],
      "text/plain": [
       "   Year  Volume  Number  Co-Authored  Average  Median\n",
       "0  2007       1       2          0.0        1     1.0"
      ]
     },
     "execution_count": 441,
     "metadata": {},
     "output_type": "execute_result"
    }
   ],
   "source": [
    "df_1_2_t"
   ]
  },
  {
   "cell_type": "code",
   "execution_count": 164,
   "metadata": {
    "collapsed": false
   },
   "outputs": [],
   "source": [
    "##Concat dataframes; with each issue as one row\n",
    "\n",
    "concat = pd.concat([\n",
    "df_11_4_t,\n",
    "df_11_3_t,\n",
    "df_11_2_t,\n",
    "df_11_1_t,\n",
    "df_10_4_t,\n",
    "df_10_3_t,\n",
    "df_10_2_t,\n",
    "df_10_1_t,\n",
    "df_9_4_t,\n",
    "df_9_3_t,\n",
    "df_9_2_t,\n",
    "df_9_1_t,\n",
    "df_8_4_t,\n",
    "df_8_3_t,\n",
    "df_8_2_t,\n",
    "df_8_1_t,\n",
    "df_7_3_t,\n",
    "df_7_2_t,\n",
    "df_7_1_t,\n",
    "df_6_3_t,\n",
    "df_6_2_t,\n",
    "df_6_1_t,\n",
    "df_5_3_t,\n",
    "df_5_2_t,\n",
    "df_5_1_t,\n",
    "df_4_2_t,\n",
    "df_4_1_t,\n",
    "df_3_4_t,\n",
    "df_3_3_t,\n",
    "df_3_2_t,\n",
    "df_3_1_t,\n",
    "df_2_1_t,\n",
    "df_1_2_t,\n",
    "df_1_1_t])"
   ]
  },
  {
   "cell_type": "code",
   "execution_count": 464,
   "metadata": {
    "collapsed": false
   },
   "outputs": [],
   "source": [
    "#Create copy of dataframe\n",
    "concat2 = concat\n",
    "\n",
    "#Drop first column\n",
    "concat2 = concat2.drop('id', 1)\n",
    "#concat2.head()\n",
    "\n",
    "#Set new Multi-Value Index as Volume and Number\n",
    "concat2 = concat2.set_index(['Volume', 'Number'])\n",
    "concat2\n",
    "\n",
    "#Save to .csv\n",
    "concat2.to_csv('DHQ-table1.csv')"
   ]
  },
  {
   "cell_type": "code",
   "execution_count": 315,
   "metadata": {
    "collapsed": false
   },
   "outputs": [
    {
     "data": {
      "image/png": "[encoded data removed]",
      "text/plain": [
       "<matplotlib.figure.Figure at 0x1264cbc50>"
      ]
     },
     "metadata": {},
     "output_type": "display_data"
    }
   ],
   "source": [
    "import matplotlib \n",
    "import matplotlib.pyplot as plt\n",
    "\n",
    "concat3 = concat2[['Co-Authored']]\n",
    "concat3.plot()\n",
    "plt.axis([33, 0, 0, 100])\n",
    "show()"
   ]
  },
  {
   "cell_type": "code",
   "execution_count": 304,
   "metadata": {
    "collapsed": false
   },
   "outputs": [
    {
     "data": {
      "image/png": "[encoded data removed]",
      "text/plain": [
       "<matplotlib.figure.Figure at 0x127ac8668>"
      ]
     },
     "metadata": {},
     "output_type": "display_data"
    }
   ],
   "source": [
    "concat2.head()\n",
    "concat4 = concat2[['Average']]\n",
    "concat4.plot()\n",
    "plt.axis([33, 0, 1, 6])\n",
    "show()"
   ]
  },
  {
   "cell_type": "code",
   "execution_count": 394,
   "metadata": {
    "collapsed": false
   },
   "outputs": [],
   "source": [
    "#Create new dataframe organized by Year\n",
    "\n",
    "df_2017 = concat[(concat.Year == 2017)]\n",
    "df_2016 = concat[(concat.Year == 2016)]\n",
    "df_2015 = concat[(concat.Year == 2015)]\n",
    "df_2014 = concat[(concat.Year == 2014)]\n",
    "df_2013 = concat[(concat.Year == 2013)]\n",
    "df_2012 = concat[(concat.Year == 2012)]\n",
    "df_2011 = concat[(concat.Year == 2011)]\n",
    "df_2010 = concat[(concat.Year == 2010)]\n",
    "df_2009 = concat[(concat.Year == 2009)]\n",
    "df_2008 = concat[(concat.Year == 2008)]\n",
    "df_2007 = concat[(concat.Year == 2007)]"
   ]
  },
  {
   "cell_type": "code",
   "execution_count": 385,
   "metadata": {
    "collapsed": false
   },
   "outputs": [
    {
     "name": "stdout",
     "output_type": "stream",
     "text": [
      "[0.0, 12.5]\n",
      "[1.0, 1.2]\n",
      "6.2\n",
      "1.1\n",
      "2007.0\n",
      "   Year  Co-Authored  Average\n",
      "0  2007          6.2      1.1\n"
     ]
    }
   ],
   "source": [
    "##Find Average Percentage of Co-Authored Articles and Average # of Authors\n",
    "\n",
    "total_co = []\n",
    "total_av = []\n",
    "for index, row in df_2007.iterrows():\n",
    "    co_a = row['Co-Authored']\n",
    "    total_co.append(co_a)\n",
    "    av_a = row['Average']\n",
    "    total_av.append(av_a)\n",
    "print(total_co)\n",
    "print(total_av)\n",
    "co_t = round(statistics.mean(total_co),1)\n",
    "av_t = round(statistics.mean(total_av),1)\n",
    "print(co_t)\n",
    "print(av_t)\n",
    "\n",
    "#Grab the year info from row\n",
    "f_year = int((row['Year']))\n",
    "print(row['Year'])\n",
    "\n",
    "#Create the dataframe\n",
    "df_2007_t = pd.DataFrame([[f_year, co_t, av_t]], columns = ['Year','Co-Authored','Average'])\n",
    "print(df_2007_t)"
   ]
  },
  {
   "cell_type": "code",
   "execution_count": 466,
   "metadata": {
    "collapsed": false
   },
   "outputs": [],
   "source": [
    "##Concat into final dataframe\n",
    "\n",
    "concat_f = pd.concat([\n",
    "df_2017_t,\n",
    "df_2016_t,\n",
    "df_2015_t,\n",
    "df_2014_t,\n",
    "df_2013_t,\n",
    "df_2012_t,\n",
    "df_2011_t,\n",
    "df_2010_t,\n",
    "df_2009_t,\n",
    "df_2008_t,\n",
    "df_2007_t,\n",
    "])\n",
    "\n",
    "#Set new Index as Year\n",
    "concat_f = concat_f.set_index(['Year'])\n",
    "concat_f\n",
    "\n",
    "#Save to .csv\n",
    "concat_f.to_csv('DHQ-table2.csv')"
   ]
  },
  {
   "cell_type": "code",
   "execution_count": 473,
   "metadata": {
    "collapsed": false
   },
   "outputs": [],
   "source": [
    "#Create final table of Co-Authored Articles, Organized by Year\n",
    "\n",
    "concat_f_1 = concat_f[['Co-Authored']]\n",
    "import numpy as np\n",
    "concat_f_1.plot()\n",
    "plt.gca().invert_xaxis()\n",
    "plt.title('Co-Authored DHQ Articles By Year')\n",
    "L=plt.legend()\n",
    "L.get_texts()[0].set_text('% Co-Authored')\n",
    "#plt.show()\n",
    "\n",
    "#Export graph as .png\n",
    "plt.savefig('DHQ-AuthGraph.png')"
   ]
  },
  {
   "cell_type": "code",
   "execution_count": 461,
   "metadata": {
    "collapsed": false
   },
   "outputs": [
    {
     "data": {
      "image/png": "[encoded data removed]",
      "text/plain": [
       "<matplotlib.figure.Figure at 0x1253b0c18>"
      ]
     },
     "metadata": {},
     "output_type": "display_data"
    }
   ],
   "source": [
    "concat_f_2 = concat_f[['Average']]\n",
    "concat_f_2.plot()\n",
    "plt.gca().invert_xaxis()\n",
    "plt.title('DHQ Articles: Average Number of Authors')\n",
    "L=plt.legend()\n",
    "L.get_texts()[0].set_text('# Authors')\n",
    "show()"
   ]
  },
  {
   "cell_type": "code",
   "execution_count": null,
   "metadata": {
    "collapsed": true
   },
   "outputs": [],
   "source": []
  }
 ],
 "metadata": {
  "anaconda-cloud": {},
  "kernelspec": {
   "display_name": "Python [default]",
   "language": "python",
   "name": "python3"
  },
  "language_info": {
   "codemirror_mode": {
    "name": "ipython",
    "version": 3
   },
   "file_extension": ".py",
   "mimetype": "text/x-python",
   "name": "python",
   "nbconvert_exporter": "python",
   "pygments_lexer": "ipython3",
   "version": "3.5.2"
  }
 },
 "nbformat": 4,
 "nbformat_minor": 1
}
